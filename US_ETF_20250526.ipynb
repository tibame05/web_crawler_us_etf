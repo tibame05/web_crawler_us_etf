{
  "nbformat": 4,
  "nbformat_minor": 0,
  "metadata": {
    "colab": {
      "provenance": []
    },
    "kernelspec": {
      "name": "python3",
      "display_name": "Python 3"
    },
    "language_info": {
      "name": "python"
    }
  },
  "cells": [
    {
      "cell_type": "markdown",
      "source": [
        "https://www.alphavantage.co/documentation/"
      ],
      "metadata": {
        "id": "Ya5GKtRSopHR"
      }
    },
    {
      "cell_type": "markdown",
      "source": [
        "詢問 chat gpt 之問題 :\n",
        "https://www.alphavantage.co/documentation/\n",
        "給我一段demo code 抓取 VOO ETF 過去十年的歷史資料"
      ],
      "metadata": {
        "id": "8K-KhEMAtato"
      }
    },
    {
      "cell_type": "code",
      "source": [
        "import requests\n",
        "import pandas as pd\n",
        "from datetime import datetime, timedelta\n",
        "\n",
        "# 替換為你的 API 金鑰\n",
        "API_KEY = 'your_api_key_here'\n",
        "SYMBOL = 'VOO'\n",
        "FUNCTION = 'TIME_SERIES_DAILY'\n",
        "# outputsize=full 才能拿到超過100天以上的資料。\n",
        "OUTPUT_SIZE = 'full'  # 拿全部資料\n",
        "\n",
        "# Alpha Vantage API URL\n",
        "url = f'https://www.alphavantage.co/query?function={FUNCTION}&symbol={SYMBOL}&outputsize={OUTPUT_SIZE}&apikey={API_KEY}'\n",
        "\n",
        "# 發送請求\n",
        "response = requests.get(url)\n",
        "data = response.json()\n",
        "print(data)\n",
        "# 檢查是否成功取得資料\n",
        "if \"Time Series (Daily)\" not in data:\n",
        "    raise Exception(f\"資料讀取失敗：{data}\")\n",
        "\n",
        "# 轉換為 DataFrame\n",
        "df = pd.DataFrame.from_dict(data[\"Time Series (Daily)\"], orient='index')\n",
        "df.index = pd.to_datetime(df.index)\n",
        "df = df.sort_index()  # 按日期排序\n",
        "df.columns = [col[3:] for col in df.columns]  # 移除前綴 like \"1. open\" -> \"open\"\n",
        "df = df.astype(float)\n",
        "\n",
        "# 篩選過去10年的資料\n",
        "end_date = datetime.now()\n",
        "start_date = end_date - timedelta(days=365*10)\n",
        "df = df.loc[start_date:end_date]\n",
        "\n",
        "# 顯示前幾列\n",
        "print(df.head())\n",
        "\n",
        "# 儲存成 CSV（可選）\n",
        "df.to_csv(\"VOO_10y_history.csv\")"
      ],
      "metadata": {
        "id": "WN0DjsDiop9a"
      },
      "execution_count": null,
      "outputs": []
    },
    {
      "cell_type": "markdown",
      "source": [
        "Alpha Vantage API 金鑰，免費使用者的限制是 每天最多 25 次請求"
      ],
      "metadata": {
        "id": "Wq6-Q8TpxRHE"
      }
    },
    {
      "cell_type": "code",
      "source": [
        "import requests\n",
        "import pandas as pd\n",
        "from datetime import datetime, timedelta\n",
        "\n",
        "# 迴圈版本\n",
        "\n",
        "# 替換為你的 API 金鑰\n",
        "API_KEY = 'your_api_key_here'\n",
        "SYMBOL = ['SPY','VOO','IVV','VIT','QQQ','VT']\n",
        "FUNCTION = 'TIME_SERIES_DAILY'\n",
        "\n",
        "# outputsize=full 才能拿到超過100天以上的資料。\n",
        "OUTPUT_SIZE = 'full'  # 拿全部資料\n",
        "\n",
        "for SYMBOL in SYMBOL:\n",
        "    # Alpha Vantage API URL\n",
        "    url = f'https://www.alphavantage.co/query?function={FUNCTION}&symbol={SYMBOL}&outputsize={OUTPUT_SIZE}&apikey={API_KEY}'\n",
        "\n",
        "    # 發送請求\n",
        "    response = requests.get(url)\n",
        "    data = response.json()\n",
        "    # 檢查是否成功取得資料\n",
        "    if \"Time Series (Daily)\" not in data:\n",
        "        raise Exception(f\"資料讀取失敗：{data}\")\n",
        "\n",
        "    # 轉換為 DataFrame\n",
        "    df = pd.DataFrame.from_dict(data[\"Time Series (Daily)\"], orient='index')\n",
        "    df.index = pd.to_datetime(df.index)\n",
        "    df = df.sort_index()  # 按日期排序\n",
        "    df.columns = [col[3:] for col in df.columns]  # 移除前綴 like \"1. open\" -> \"open\"\n",
        "    df = df.astype(float)\n",
        "    print(df)\n",
        "    # 篩選過去10年的資料\n",
        "    end_date = datetime.now()\n",
        "    start_date = end_date - timedelta(days=365*10)\n",
        "    df = df.loc[start_date:end_date]\n",
        "\n",
        "    # 顯示前幾列\n",
        "    print(df.head())\n",
        "    # 儲存成 CSV（可選）\n",
        "    csv_name = f\"{SYMBOL}.csv\"\n",
        "    print(csv_name)\n",
        "    df.to_csv(csv_name, encoding=\"utf-8\")"
      ],
      "metadata": {
        "id": "FavzLL-asiR8"
      },
      "execution_count": null,
      "outputs": []
    }
  ]
}