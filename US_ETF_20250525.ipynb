{
  "nbformat": 4,
  "nbformat_minor": 0,
  "metadata": {
    "colab": {
      "provenance": []
    },
    "kernelspec": {
      "name": "python3",
      "display_name": "Python 3"
    },
    "language_info": {
      "name": "python"
    }
  },
  "cells": [
    {
      "cell_type": "markdown",
      "source": [
        "## 1. Yahoo爬蟲"
      ],
      "metadata": {
        "id": "bf3MqoRIhJ-F"
      }
    },
    {
      "cell_type": "code",
      "source": [
        "# 先下載套件\n",
        "!pip install mplfinance"
      ],
      "metadata": {
        "id": "emppPq2fYEi7"
      },
      "execution_count": null,
      "outputs": []
    },
    {
      "cell_type": "markdown",
      "source": [
        "https://hk.finance.yahoo.com/quote/SPY/history/?filter=history&period1=728317800&period2=1748071830"
      ],
      "metadata": {
        "id": "0j4nWFGka1x0"
      }
    },
    {
      "source": [
        "import mplfinance as mpf\n",
        "import pandas as pd\n",
        "import yfinance as yf\n",
        "\n",
        "ticker = 'SPY'\n",
        "start_date = '2015-05-01'\n",
        "end_date = pd.Timestamp.today().strftime('%Y-%m-%d')\n",
        "df = yf.download(ticker, start=start_date, end=end_date)\n",
        "print(df)\n",
        "df.to_csv(\"SPY.csv\", encoding=\"utf-8\")"
      ],
      "cell_type": "code",
      "metadata": {
        "id": "R1ZDWG2lfcaJ"
      },
      "execution_count": null,
      "outputs": []
    },
    {
      "cell_type": "code",
      "source": [
        "import yfinance as yf\n",
        "\n",
        "# 擴充為迴圈\n",
        "# 每股六大ETF\n",
        "ticker = ['SPY','VOO','IVV','VIT','QQQ','VT']\n",
        "start_date = '2015-05-01'\n",
        "end_date = pd.Timestamp.today().strftime('%Y-%m-%d')\n",
        "\n",
        "for r in ticker:\n",
        "    df = yf.download(r, start=start_date, end=end_date)\n",
        "    print(df)\n",
        "    print(r)\n",
        "    csv_name = f\"{r}.csv\"\n",
        "    print(csv_name)\n",
        "    df.to_csv(csv_name, encoding=\"utf-8\")"
      ],
      "metadata": {
        "id": "s84Qy2axdQi1"
      },
      "execution_count": null,
      "outputs": []
    }
  ]
}