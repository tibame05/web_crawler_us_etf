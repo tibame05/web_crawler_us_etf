{
  "nbformat": 4,
  "nbformat_minor": 0,
  "metadata": {
    "colab": {
      "provenance": []
    },
    "kernelspec": {
      "name": "python3",
      "display_name": "Python 3"
    },
    "language_info": {
      "name": "python"
    }
  },
  "cells": [
    {
      "cell_type": "markdown",
      "source": [
        "## 1. Yahoo爬蟲"
      ],
      "metadata": {
        "id": "bf3MqoRIhJ-F"
      }
    },
    {
      "cell_type": "code",
      "source": [
        "# 先下載套件\n",
        "!pip install mplfinance"
      ],
      "metadata": {
        "id": "emppPq2fYEi7"
      },
      "execution_count": null,
      "outputs": []
    },
    {
      "cell_type": "markdown",
      "source": [
        "https://hk.finance.yahoo.com/quote/SPY/history/?filter=history&period1=728317800&period2=1748071830"
      ],
      "metadata": {
        "id": "0j4nWFGka1x0"
      }
    },
    {
      "source": [
        "import mplfinance as mpf\n",
        "import pandas as pd\n",
        "import yfinance as yf\n",
        "\n",
        "ticker = 'SPY'\n",
        "start_date = '2015-05-01'\n",
        "end_date = pd.Timestamp.today().strftime('%Y-%m-%d')\n",
        "df = yf.download(ticker, start=start_date, end=end_date)\n",
        "print(df)\n",
        "df.to_csv(\"SPY.csv\", encoding=\"utf-8\")"
      ],
      "cell_type": "code",
      "metadata": {
        "id": "R1ZDWG2lfcaJ"
      },
      "execution_count": null,
      "outputs": []
    },
    {
      "cell_type": "code",
      "source": [
        "import yfinance as yf\n",
        "\n",
        "# 擴充為迴圈\n",
        "# 每股六大ETF\n",
        "ticker = ['SPY','VOO','IVV','VIT','QQQ','VT']\n",
        "start_date = '2015-05-01'\n",
        "end_date = pd.Timestamp.today().strftime('%Y-%m-%d')\n",
        "\n",
        "for r in ticker:\n",
        "    df = yf.download(r, start=start_date, end=end_date)\n",
        "    print(r)\n",
        "    csv_name = f\"{r}.csv\"\n",
        "    df.to_csv(csv_name, encoding=\"utf-8\")"
      ],
      "metadata": {
        "colab": {
          "base_uri": "https://localhost:8080/"
        },
        "id": "s84Qy2axdQi1",
        "outputId": "b373bbbc-e1da-4d0a-b5c1-92a10b5f9d22"
      },
      "execution_count": 25,
      "outputs": [
        {
          "output_type": "stream",
          "name": "stderr",
          "text": [
            "\r[*********************100%***********************]  1 of 1 completed\n"
          ]
        },
        {
          "output_type": "stream",
          "name": "stdout",
          "text": [
            "SPY\n"
          ]
        },
        {
          "output_type": "stream",
          "name": "stderr",
          "text": [
            "\r[*********************100%***********************]  1 of 1 completed\n"
          ]
        },
        {
          "output_type": "stream",
          "name": "stdout",
          "text": [
            "VOO\n"
          ]
        },
        {
          "output_type": "stream",
          "name": "stderr",
          "text": [
            "\r[*********************100%***********************]  1 of 1 completed\n"
          ]
        },
        {
          "output_type": "stream",
          "name": "stdout",
          "text": [
            "IVV\n"
          ]
        },
        {
          "output_type": "stream",
          "name": "stderr",
          "text": [
            "\r[*********************100%***********************]  1 of 1 completed\n"
          ]
        },
        {
          "output_type": "stream",
          "name": "stdout",
          "text": [
            "VIT\n"
          ]
        },
        {
          "output_type": "stream",
          "name": "stderr",
          "text": [
            "\r[*********************100%***********************]  1 of 1 completed\n"
          ]
        },
        {
          "output_type": "stream",
          "name": "stdout",
          "text": [
            "QQQ\n"
          ]
        },
        {
          "output_type": "stream",
          "name": "stderr",
          "text": [
            "\r[*********************100%***********************]  1 of 1 completed"
          ]
        },
        {
          "output_type": "stream",
          "name": "stdout",
          "text": [
            "VT\n"
          ]
        },
        {
          "output_type": "stream",
          "name": "stderr",
          "text": [
            "\n"
          ]
        }
      ]
    }
  ]
}