{
  "nbformat": 4,
  "nbformat_minor": 0,
  "metadata": {
    "colab": {
      "provenance": []
    },
    "kernelspec": {
      "name": "python3",
      "display_name": "Python 3"
    },
    "language_info": {
      "name": "python"
    }
  },
  "cells": [
    {
      "cell_type": "markdown",
      "source": [
        "## 1. Yahoo爬蟲"
      ],
      "metadata": {
        "id": "bf3MqoRIhJ-F"
      }
    },
    {
      "cell_type": "markdown",
      "source": [
        "https://hk.finance.yahoo.com/quote/SPY/history/?filter=history&period1=728317800&period2=1748071830"
      ],
      "metadata": {
        "id": "0j4nWFGka1x0"
      }
    },
    {
      "source": [
        "import yfinance as yf\n",
        "import pandas as pd\n",
        "ticker = 'SPY'\n",
        "start_date = '2015-05-01'\n",
        "end_date = pd.Timestamp.today().strftime('%Y-%m-%d')\n",
        "df = yf.download(ticker, start=start_date, end=end_date)\n",
        "print(df)\n",
        "df.to_csv(\"SPY.csv\", encoding=\"utf-8\")"
      ],
      "cell_type": "code",
      "metadata": {
        "id": "R1ZDWG2lfcaJ"
      },
      "execution_count": null,
      "outputs": []
    },
    {
      "cell_type": "code",
      "source": [
        "import yfinance as yf\n",
        "import pandas as pd\n",
        "# 擴充為迴圈\n",
        "# 美股六大ETF\n",
        "ticker = ['SPY','VOO','IVV','VTI','QQQ','VT']\n",
        "start_date = '2015-05-01'\n",
        "end_date = pd.Timestamp.today().strftime('%Y-%m-%d')\n",
        "\n",
        "for r in ticker:\n",
        "    df = yf.download(r, start=start_date, end=end_date)\n",
        "    df = df.reset_index() # 把日期變成一般欄位\n",
        "    df = df.drop(df.index[0])\n",
        "    csv_name = f\"{r}.csv\"\n",
        "    df.to_csv(csv_name, encoding=\"utf-8\", index=False)"
      ],
      "metadata": {
        "id": "s84Qy2axdQi1"
      },
      "execution_count": null,
      "outputs": []
    }
  ]
}